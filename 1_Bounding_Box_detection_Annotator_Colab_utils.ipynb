{
  "nbformat": 4,
  "nbformat_minor": 0,
  "metadata": {
    "colab": {
      "name": "1. Bounding_Box_detection_Annotator_Colab_utils.ipynb",
      "provenance": [],
      "collapsed_sections": []
    },
    "kernelspec": {
      "name": "python3",
      "display_name": "Python 3"
    },
    "language_info": {
      "name": "python"
    }
  },
  "cells": [
    {
      "cell_type": "markdown",
      "metadata": {
        "id": "h7MdyB5S2R5o"
      },
      "source": [
        "# This codebook is used to invoke colab utils to annotate images for bounding boxes and to save the annotations in a json format thereafter."
      ]
    },
    {
      "cell_type": "code",
      "metadata": {
        "colab": {
          "base_uri": "https://localhost:8080/"
        },
        "id": "Vy0uP3jv2j67",
        "outputId": "ab5eedce-4c39-4dce-ebe3-8b7bb2e1f1f6"
      },
      "source": [
        "!pip install -U --pre tensorflow==\"2.2.0\""
      ],
      "execution_count": 1,
      "outputs": [
        {
          "output_type": "stream",
          "text": [
            "Collecting tensorflow==2.2.0\n",
            "\u001b[?25l  Downloading https://files.pythonhosted.org/packages/4c/1a/0d79814736cfecc825ab8094b39648cc9c46af7af1bae839928acb73b4dd/tensorflow-2.2.0-cp37-cp37m-manylinux2010_x86_64.whl (516.2MB)\n",
            "\u001b[K     |████████████████████████████████| 516.2MB 32kB/s \n",
            "\u001b[?25hRequirement already satisfied, skipping upgrade: h5py<2.11.0,>=2.10.0 in /usr/local/lib/python3.7/dist-packages (from tensorflow==2.2.0) (2.10.0)\n",
            "Requirement already satisfied, skipping upgrade: absl-py>=0.7.0 in /usr/local/lib/python3.7/dist-packages (from tensorflow==2.2.0) (0.12.0)\n",
            "Requirement already satisfied, skipping upgrade: termcolor>=1.1.0 in /usr/local/lib/python3.7/dist-packages (from tensorflow==2.2.0) (1.1.0)\n",
            "Requirement already satisfied, skipping upgrade: google-pasta>=0.1.8 in /usr/local/lib/python3.7/dist-packages (from tensorflow==2.2.0) (0.2.0)\n",
            "Requirement already satisfied, skipping upgrade: six>=1.12.0 in /usr/local/lib/python3.7/dist-packages (from tensorflow==2.2.0) (1.15.0)\n",
            "Requirement already satisfied, skipping upgrade: numpy<2.0,>=1.16.0 in /usr/local/lib/python3.7/dist-packages (from tensorflow==2.2.0) (1.19.5)\n",
            "Requirement already satisfied, skipping upgrade: keras-preprocessing>=1.1.0 in /usr/local/lib/python3.7/dist-packages (from tensorflow==2.2.0) (1.1.2)\n",
            "Requirement already satisfied, skipping upgrade: protobuf>=3.8.0 in /usr/local/lib/python3.7/dist-packages (from tensorflow==2.2.0) (3.12.4)\n",
            "Requirement already satisfied, skipping upgrade: scipy==1.4.1; python_version >= \"3\" in /usr/local/lib/python3.7/dist-packages (from tensorflow==2.2.0) (1.4.1)\n",
            "Requirement already satisfied, skipping upgrade: opt-einsum>=2.3.2 in /usr/local/lib/python3.7/dist-packages (from tensorflow==2.2.0) (3.3.0)\n",
            "Collecting tensorboard<2.3.0,>=2.2.0\n",
            "\u001b[?25l  Downloading https://files.pythonhosted.org/packages/1d/74/0a6fcb206dcc72a6da9a62dd81784bfdbff5fedb099982861dc2219014fb/tensorboard-2.2.2-py3-none-any.whl (3.0MB)\n",
            "\u001b[K     |████████████████████████████████| 3.0MB 43.4MB/s \n",
            "\u001b[?25hRequirement already satisfied, skipping upgrade: wrapt>=1.11.1 in /usr/local/lib/python3.7/dist-packages (from tensorflow==2.2.0) (1.12.1)\n",
            "Requirement already satisfied, skipping upgrade: astunparse==1.6.3 in /usr/local/lib/python3.7/dist-packages (from tensorflow==2.2.0) (1.6.3)\n",
            "Requirement already satisfied, skipping upgrade: wheel>=0.26; python_version >= \"3\" in /usr/local/lib/python3.7/dist-packages (from tensorflow==2.2.0) (0.36.2)\n",
            "Collecting tensorflow-estimator<2.3.0,>=2.2.0\n",
            "\u001b[?25l  Downloading https://files.pythonhosted.org/packages/a4/f5/926ae53d6a226ec0fda5208e0e581cffed895ccc89e36ba76a8e60895b78/tensorflow_estimator-2.2.0-py2.py3-none-any.whl (454kB)\n",
            "\u001b[K     |████████████████████████████████| 460kB 41.7MB/s \n",
            "\u001b[?25hRequirement already satisfied, skipping upgrade: gast==0.3.3 in /usr/local/lib/python3.7/dist-packages (from tensorflow==2.2.0) (0.3.3)\n",
            "Requirement already satisfied, skipping upgrade: grpcio>=1.8.6 in /usr/local/lib/python3.7/dist-packages (from tensorflow==2.2.0) (1.32.0)\n",
            "Requirement already satisfied, skipping upgrade: setuptools in /usr/local/lib/python3.7/dist-packages (from protobuf>=3.8.0->tensorflow==2.2.0) (56.0.0)\n",
            "Requirement already satisfied, skipping upgrade: google-auth<2,>=1.6.3 in /usr/local/lib/python3.7/dist-packages (from tensorboard<2.3.0,>=2.2.0->tensorflow==2.2.0) (1.28.1)\n",
            "Requirement already satisfied, skipping upgrade: google-auth-oauthlib<0.5,>=0.4.1 in /usr/local/lib/python3.7/dist-packages (from tensorboard<2.3.0,>=2.2.0->tensorflow==2.2.0) (0.4.4)\n",
            "Requirement already satisfied, skipping upgrade: markdown>=2.6.8 in /usr/local/lib/python3.7/dist-packages (from tensorboard<2.3.0,>=2.2.0->tensorflow==2.2.0) (3.3.4)\n",
            "Requirement already satisfied, skipping upgrade: tensorboard-plugin-wit>=1.6.0 in /usr/local/lib/python3.7/dist-packages (from tensorboard<2.3.0,>=2.2.0->tensorflow==2.2.0) (1.8.0)\n",
            "Requirement already satisfied, skipping upgrade: requests<3,>=2.21.0 in /usr/local/lib/python3.7/dist-packages (from tensorboard<2.3.0,>=2.2.0->tensorflow==2.2.0) (2.23.0)\n",
            "Requirement already satisfied, skipping upgrade: werkzeug>=0.11.15 in /usr/local/lib/python3.7/dist-packages (from tensorboard<2.3.0,>=2.2.0->tensorflow==2.2.0) (1.0.1)\n",
            "Requirement already satisfied, skipping upgrade: cachetools<5.0,>=2.0.0 in /usr/local/lib/python3.7/dist-packages (from google-auth<2,>=1.6.3->tensorboard<2.3.0,>=2.2.0->tensorflow==2.2.0) (4.2.1)\n",
            "Requirement already satisfied, skipping upgrade: pyasn1-modules>=0.2.1 in /usr/local/lib/python3.7/dist-packages (from google-auth<2,>=1.6.3->tensorboard<2.3.0,>=2.2.0->tensorflow==2.2.0) (0.2.8)\n",
            "Requirement already satisfied, skipping upgrade: rsa<5,>=3.1.4; python_version >= \"3.6\" in /usr/local/lib/python3.7/dist-packages (from google-auth<2,>=1.6.3->tensorboard<2.3.0,>=2.2.0->tensorflow==2.2.0) (4.7.2)\n",
            "Requirement already satisfied, skipping upgrade: requests-oauthlib>=0.7.0 in /usr/local/lib/python3.7/dist-packages (from google-auth-oauthlib<0.5,>=0.4.1->tensorboard<2.3.0,>=2.2.0->tensorflow==2.2.0) (1.3.0)\n",
            "Requirement already satisfied, skipping upgrade: importlib-metadata; python_version < \"3.8\" in /usr/local/lib/python3.7/dist-packages (from markdown>=2.6.8->tensorboard<2.3.0,>=2.2.0->tensorflow==2.2.0) (3.10.1)\n",
            "Requirement already satisfied, skipping upgrade: idna<3,>=2.5 in /usr/local/lib/python3.7/dist-packages (from requests<3,>=2.21.0->tensorboard<2.3.0,>=2.2.0->tensorflow==2.2.0) (2.10)\n",
            "Requirement already satisfied, skipping upgrade: certifi>=2017.4.17 in /usr/local/lib/python3.7/dist-packages (from requests<3,>=2.21.0->tensorboard<2.3.0,>=2.2.0->tensorflow==2.2.0) (2020.12.5)\n",
            "Requirement already satisfied, skipping upgrade: urllib3!=1.25.0,!=1.25.1,<1.26,>=1.21.1 in /usr/local/lib/python3.7/dist-packages (from requests<3,>=2.21.0->tensorboard<2.3.0,>=2.2.0->tensorflow==2.2.0) (1.24.3)\n",
            "Requirement already satisfied, skipping upgrade: chardet<4,>=3.0.2 in /usr/local/lib/python3.7/dist-packages (from requests<3,>=2.21.0->tensorboard<2.3.0,>=2.2.0->tensorflow==2.2.0) (3.0.4)\n",
            "Requirement already satisfied, skipping upgrade: pyasn1<0.5.0,>=0.4.6 in /usr/local/lib/python3.7/dist-packages (from pyasn1-modules>=0.2.1->google-auth<2,>=1.6.3->tensorboard<2.3.0,>=2.2.0->tensorflow==2.2.0) (0.4.8)\n",
            "Requirement already satisfied, skipping upgrade: oauthlib>=3.0.0 in /usr/local/lib/python3.7/dist-packages (from requests-oauthlib>=0.7.0->google-auth-oauthlib<0.5,>=0.4.1->tensorboard<2.3.0,>=2.2.0->tensorflow==2.2.0) (3.1.0)\n",
            "Requirement already satisfied, skipping upgrade: typing-extensions>=3.6.4; python_version < \"3.8\" in /usr/local/lib/python3.7/dist-packages (from importlib-metadata; python_version < \"3.8\"->markdown>=2.6.8->tensorboard<2.3.0,>=2.2.0->tensorflow==2.2.0) (3.7.4.3)\n",
            "Requirement already satisfied, skipping upgrade: zipp>=0.5 in /usr/local/lib/python3.7/dist-packages (from importlib-metadata; python_version < \"3.8\"->markdown>=2.6.8->tensorboard<2.3.0,>=2.2.0->tensorflow==2.2.0) (3.4.1)\n",
            "Installing collected packages: tensorboard, tensorflow-estimator, tensorflow\n",
            "  Found existing installation: tensorboard 2.4.1\n",
            "    Uninstalling tensorboard-2.4.1:\n",
            "      Successfully uninstalled tensorboard-2.4.1\n",
            "  Found existing installation: tensorflow-estimator 2.4.0\n",
            "    Uninstalling tensorflow-estimator-2.4.0:\n",
            "      Successfully uninstalled tensorflow-estimator-2.4.0\n",
            "  Found existing installation: tensorflow 2.4.1\n",
            "    Uninstalling tensorflow-2.4.1:\n",
            "      Successfully uninstalled tensorflow-2.4.1\n",
            "Successfully installed tensorboard-2.2.2 tensorflow-2.2.0 tensorflow-estimator-2.2.0\n"
          ],
          "name": "stdout"
        }
      ]
    },
    {
      "cell_type": "code",
      "metadata": {
        "id": "6J5vMlwL5d0u",
        "colab": {
          "base_uri": "https://localhost:8080/"
        },
        "outputId": "a48c2adf-ea26-49fe-c9b6-276b5d05246a"
      },
      "source": [
        "import os\n",
        "import pathlib\n",
        "\n",
        "# Clone the tensorflow models repository if it doesn't already exist\n",
        "if \"models\" in pathlib.Path.cwd().parts:\n",
        "  while \"models\" in pathlib.Path.cwd().parts:\n",
        "    os.chdir('..')\n",
        "elif not pathlib.Path('models').exists():\n",
        "  !git clone --depth 1 https://github.com/tensorflow/models"
      ],
      "execution_count": 2,
      "outputs": [
        {
          "output_type": "stream",
          "text": [
            "Cloning into 'models'...\n",
            "remote: Enumerating objects: 2608, done.\u001b[K\n",
            "remote: Counting objects: 100% (2608/2608), done.\u001b[K\n",
            "remote: Compressing objects: 100% (2161/2161), done.\u001b[K\n",
            "remote: Total 2608 (delta 651), reused 1266 (delta 413), pack-reused 0\u001b[K\n",
            "Receiving objects: 100% (2608/2608), 32.57 MiB | 30.68 MiB/s, done.\n",
            "Resolving deltas: 100% (651/651), done.\n"
          ],
          "name": "stdout"
        }
      ]
    },
    {
      "cell_type": "code",
      "metadata": {
        "colab": {
          "base_uri": "https://localhost:8080/"
        },
        "id": "zDtcO9Fz5hva",
        "outputId": "9a9b012a-b3de-49fa-cb3a-5448096bf3c8"
      },
      "source": [
        "# Install the Object Detection API\n",
        "%%bash\n",
        "cd models/research/\n",
        "protoc object_detection/protos/*.proto --python_out=.\n",
        "cp object_detection/packages/tf2/setup.py .\n",
        "python -m pip install ."
      ],
      "execution_count": 3,
      "outputs": [
        {
          "output_type": "stream",
          "text": [
            "Processing /content/models/research\n",
            "Collecting avro-python3\n",
            "  Downloading https://files.pythonhosted.org/packages/cc/97/7a6970380ca8db9139a3cc0b0e3e0dd3e4bc584fb3644e1d06e71e1a55f0/avro-python3-1.10.2.tar.gz\n",
            "Collecting apache-beam\n",
            "  Downloading https://files.pythonhosted.org/packages/4a/7f/342e6bf4bbdc55418c929b3281948070ef4ca83e198dc9135352c25799f9/apache_beam-2.29.0-cp37-cp37m-manylinux2010_x86_64.whl (9.6MB)\n",
            "Requirement already satisfied: pillow in /usr/local/lib/python3.7/dist-packages (from object-detection==0.1) (7.1.2)\n",
            "Requirement already satisfied: lxml in /usr/local/lib/python3.7/dist-packages (from object-detection==0.1) (4.2.6)\n",
            "Requirement already satisfied: matplotlib in /usr/local/lib/python3.7/dist-packages (from object-detection==0.1) (3.2.2)\n",
            "Requirement already satisfied: Cython in /usr/local/lib/python3.7/dist-packages (from object-detection==0.1) (0.29.22)\n",
            "Requirement already satisfied: contextlib2 in /usr/local/lib/python3.7/dist-packages (from object-detection==0.1) (0.5.5)\n",
            "Collecting tf-slim\n",
            "  Downloading https://files.pythonhosted.org/packages/02/97/b0f4a64df018ca018cc035d44f2ef08f91e2e8aa67271f6f19633a015ff7/tf_slim-1.1.0-py2.py3-none-any.whl (352kB)\n",
            "Requirement already satisfied: six in /usr/local/lib/python3.7/dist-packages (from object-detection==0.1) (1.15.0)\n",
            "Requirement already satisfied: pycocotools in /usr/local/lib/python3.7/dist-packages (from object-detection==0.1) (2.0.2)\n",
            "Collecting lvis\n",
            "  Downloading https://files.pythonhosted.org/packages/72/b6/1992240ab48310b5360bfdd1d53163f43bb97d90dc5dc723c67d41c38e78/lvis-0.5.3-py3-none-any.whl\n",
            "Requirement already satisfied: scipy in /usr/local/lib/python3.7/dist-packages (from object-detection==0.1) (1.4.1)\n",
            "Requirement already satisfied: pandas in /usr/local/lib/python3.7/dist-packages (from object-detection==0.1) (1.1.5)\n",
            "Collecting tf-models-official\n",
            "  Downloading https://files.pythonhosted.org/packages/57/4a/23a08f8fd2747867ee223612e219eeb0d11c36116601d99b55ef3c72e707/tf_models_official-2.4.0-py2.py3-none-any.whl (1.1MB)\n",
            "Collecting dill<0.3.2,>=0.3.1.1\n",
            "  Downloading https://files.pythonhosted.org/packages/c7/11/345f3173809cea7f1a193bfbf02403fff250a3360e0e118a1630985e547d/dill-0.3.1.1.tar.gz (151kB)\n",
            "Collecting fastavro<2,>=0.21.4\n",
            "  Downloading https://files.pythonhosted.org/packages/b6/26/cc1acc339eb1b8423c32b0a1dca524214012e577c22ce8fdd58d5213f9b4/fastavro-1.4.0-cp37-cp37m-manylinux2014_x86_64.whl (2.2MB)\n",
            "Requirement already satisfied: python-dateutil<3,>=2.8.0 in /usr/local/lib/python3.7/dist-packages (from apache-beam->object-detection==0.1) (2.8.1)\n",
            "Collecting requests<3.0.0,>=2.24.0\n",
            "  Downloading https://files.pythonhosted.org/packages/29/c1/24814557f1d22c56d50280771a17307e6bf87b70727d975fd6b2ce6b014a/requests-2.25.1-py2.py3-none-any.whl (61kB)\n",
            "Requirement already satisfied: protobuf<4,>=3.12.2 in /usr/local/lib/python3.7/dist-packages (from apache-beam->object-detection==0.1) (3.12.4)\n",
            "Requirement already satisfied: grpcio<2,>=1.29.0 in /usr/local/lib/python3.7/dist-packages (from apache-beam->object-detection==0.1) (1.32.0)\n",
            "Requirement already satisfied: pymongo<4.0.0,>=3.8.0 in /usr/local/lib/python3.7/dist-packages (from apache-beam->object-detection==0.1) (3.11.3)\n",
            "Collecting future<1.0.0,>=0.18.2\n",
            "  Downloading https://files.pythonhosted.org/packages/45/0b/38b06fd9b92dc2b68d58b75f900e97884c45bedd2ff83203d933cf5851c9/future-0.18.2.tar.gz (829kB)\n",
            "Requirement already satisfied: oauth2client<5,>=2.0.1 in /usr/local/lib/python3.7/dist-packages (from apache-beam->object-detection==0.1) (4.1.3)\n",
            "Requirement already satisfied: pyarrow<4.0.0,>=0.15.1 in /usr/local/lib/python3.7/dist-packages (from apache-beam->object-detection==0.1) (3.0.0)\n",
            "Requirement already satisfied: pydot<2,>=1.2.0 in /usr/local/lib/python3.7/dist-packages (from apache-beam->object-detection==0.1) (1.3.0)\n",
            "Requirement already satisfied: pytz>=2018.3 in /usr/local/lib/python3.7/dist-packages (from apache-beam->object-detection==0.1) (2018.9)\n",
            "Requirement already satisfied: httplib2<0.18.0,>=0.8 in /usr/local/lib/python3.7/dist-packages (from apache-beam->object-detection==0.1) (0.17.4)\n",
            "Collecting hdfs<3.0.0,>=2.1.0\n",
            "  Downloading https://files.pythonhosted.org/packages/08/f7/4c3fad73123a24d7394b6f40d1ec9c1cbf2e921cfea1797216ffd0a51fb1/hdfs-2.6.0-py3-none-any.whl\n",
            "Requirement already satisfied: crcmod<2.0,>=1.7 in /usr/local/lib/python3.7/dist-packages (from apache-beam->object-detection==0.1) (1.7)\n",
            "Requirement already satisfied: typing-extensions<3.8.0,>=3.7.0 in /usr/local/lib/python3.7/dist-packages (from apache-beam->object-detection==0.1) (3.7.4.3)\n",
            "Requirement already satisfied: numpy<1.21.0,>=1.14.3 in /usr/local/lib/python3.7/dist-packages (from apache-beam->object-detection==0.1) (1.19.5)\n",
            "Requirement already satisfied: pyparsing!=2.0.4,!=2.1.2,!=2.1.6,>=2.0.1 in /usr/local/lib/python3.7/dist-packages (from matplotlib->object-detection==0.1) (2.4.7)\n",
            "Requirement already satisfied: cycler>=0.10 in /usr/local/lib/python3.7/dist-packages (from matplotlib->object-detection==0.1) (0.10.0)\n",
            "Requirement already satisfied: kiwisolver>=1.0.1 in /usr/local/lib/python3.7/dist-packages (from matplotlib->object-detection==0.1) (1.3.1)\n",
            "Requirement already satisfied: absl-py>=0.2.2 in /usr/local/lib/python3.7/dist-packages (from tf-slim->object-detection==0.1) (0.12.0)\n",
            "Requirement already satisfied: setuptools>=18.0 in /usr/local/lib/python3.7/dist-packages (from pycocotools->object-detection==0.1) (56.0.0)\n",
            "Requirement already satisfied: opencv-python>=4.1.0.25 in /usr/local/lib/python3.7/dist-packages (from lvis->object-detection==0.1) (4.1.2.30)\n",
            "Collecting opencv-python-headless\n",
            "  Downloading https://files.pythonhosted.org/packages/6d/6d/92f377bece9b0ec9c893081dbe073a65b38d7ac12ef572b8f70554d08760/opencv_python_headless-4.5.1.48-cp37-cp37m-manylinux2014_x86_64.whl (37.6MB)\n",
            "Requirement already satisfied: psutil>=5.4.3 in /usr/local/lib/python3.7/dist-packages (from tf-models-official->object-detection==0.1) (5.4.8)\n",
            "Requirement already satisfied: kaggle>=1.3.9 in /usr/local/lib/python3.7/dist-packages (from tf-models-official->object-detection==0.1) (1.5.12)\n",
            "Collecting sentencepiece\n",
            "  Downloading https://files.pythonhosted.org/packages/f5/99/e0808cb947ba10f575839c43e8fafc9cc44e4a7a2c8f79c60db48220a577/sentencepiece-0.1.95-cp37-cp37m-manylinux2014_x86_64.whl (1.2MB)\n",
            "Collecting tensorflow-addons\n",
            "  Downloading https://files.pythonhosted.org/packages/74/e3/56d2fe76f0bb7c88ed9b2a6a557e25e83e252aec08f13de34369cd850a0b/tensorflow_addons-0.12.1-cp37-cp37m-manylinux2010_x86_64.whl (703kB)\n",
            "Requirement already satisfied: tensorflow-datasets in /usr/local/lib/python3.7/dist-packages (from tf-models-official->object-detection==0.1) (4.0.1)\n",
            "Collecting tensorflow-model-optimization>=0.4.1\n",
            "  Downloading https://files.pythonhosted.org/packages/55/38/4fd48ea1bfcb0b6e36d949025200426fe9c3a8bfae029f0973d85518fa5a/tensorflow_model_optimization-0.5.0-py2.py3-none-any.whl (172kB)\n",
            "Requirement already satisfied: tensorflow-hub>=0.6.0 in /usr/local/lib/python3.7/dist-packages (from tf-models-official->object-detection==0.1) (0.12.0)\n",
            "Requirement already satisfied: google-api-python-client>=1.6.7 in /usr/local/lib/python3.7/dist-packages (from tf-models-official->object-detection==0.1) (1.12.8)\n",
            "Collecting tensorflow>=2.4.0\n",
            "  Downloading https://files.pythonhosted.org/packages/70/dc/e8c5e7983866fa4ef3fd619faa35f660b95b01a2ab62b3884f038ccab542/tensorflow-2.4.1-cp37-cp37m-manylinux2010_x86_64.whl (394.3MB)\n",
            "Collecting dataclasses\n",
            "  Downloading https://files.pythonhosted.org/packages/26/2f/1095cdc2868052dd1e64520f7c0d5c8c550ad297e944e641dbf1ffbb9a5d/dataclasses-0.6-py3-none-any.whl\n",
            "Collecting pyyaml>=5.1\n",
            "  Downloading https://files.pythonhosted.org/packages/7a/a5/393c087efdc78091afa2af9f1378762f9821c9c1d7a22c5753fb5ac5f97a/PyYAML-5.4.1-cp37-cp37m-manylinux1_x86_64.whl (636kB)\n",
            "Collecting seqeval\n",
            "  Downloading https://files.pythonhosted.org/packages/9d/2d/233c79d5b4e5ab1dbf111242299153f3caddddbb691219f363ad55ce783d/seqeval-1.2.2.tar.gz (43kB)\n",
            "Collecting py-cpuinfo>=3.3.0\n",
            "  Downloading https://files.pythonhosted.org/packages/e6/ba/77120e44cbe9719152415b97d5bfb29f4053ee987d6cb63f55ce7d50fadc/py-cpuinfo-8.0.0.tar.gz (99kB)\n",
            "Requirement already satisfied: gin-config in /usr/local/lib/python3.7/dist-packages (from tf-models-official->object-detection==0.1) (0.4.0)\n",
            "Requirement already satisfied: google-cloud-bigquery>=0.31.0 in /usr/local/lib/python3.7/dist-packages (from tf-models-official->object-detection==0.1) (1.21.0)\n",
            "Requirement already satisfied: idna<3,>=2.5 in /usr/local/lib/python3.7/dist-packages (from requests<3.0.0,>=2.24.0->apache-beam->object-detection==0.1) (2.10)\n",
            "Requirement already satisfied: chardet<5,>=3.0.2 in /usr/local/lib/python3.7/dist-packages (from requests<3.0.0,>=2.24.0->apache-beam->object-detection==0.1) (3.0.4)\n",
            "Requirement already satisfied: urllib3<1.27,>=1.21.1 in /usr/local/lib/python3.7/dist-packages (from requests<3.0.0,>=2.24.0->apache-beam->object-detection==0.1) (1.24.3)\n",
            "Requirement already satisfied: certifi>=2017.4.17 in /usr/local/lib/python3.7/dist-packages (from requests<3.0.0,>=2.24.0->apache-beam->object-detection==0.1) (2020.12.5)\n",
            "Requirement already satisfied: rsa>=3.1.4 in /usr/local/lib/python3.7/dist-packages (from oauth2client<5,>=2.0.1->apache-beam->object-detection==0.1) (4.7.2)\n",
            "Requirement already satisfied: pyasn1>=0.1.7 in /usr/local/lib/python3.7/dist-packages (from oauth2client<5,>=2.0.1->apache-beam->object-detection==0.1) (0.4.8)\n",
            "Requirement already satisfied: pyasn1-modules>=0.0.5 in /usr/local/lib/python3.7/dist-packages (from oauth2client<5,>=2.0.1->apache-beam->object-detection==0.1) (0.2.8)\n",
            "Requirement already satisfied: docopt in /usr/local/lib/python3.7/dist-packages (from hdfs<3.0.0,>=2.1.0->apache-beam->object-detection==0.1) (0.6.2)\n",
            "Requirement already satisfied: tqdm in /usr/local/lib/python3.7/dist-packages (from kaggle>=1.3.9->tf-models-official->object-detection==0.1) (4.41.1)\n",
            "Requirement already satisfied: python-slugify in /usr/local/lib/python3.7/dist-packages (from kaggle>=1.3.9->tf-models-official->object-detection==0.1) (4.0.1)\n",
            "Requirement already satisfied: typeguard>=2.7 in /usr/local/lib/python3.7/dist-packages (from tensorflow-addons->tf-models-official->object-detection==0.1) (2.7.1)\n",
            "Requirement already satisfied: importlib-resources; python_version < \"3.9\" in /usr/local/lib/python3.7/dist-packages (from tensorflow-datasets->tf-models-official->object-detection==0.1) (5.1.2)\n",
            "Requirement already satisfied: promise in /usr/local/lib/python3.7/dist-packages (from tensorflow-datasets->tf-models-official->object-detection==0.1) (2.3)\n",
            "Requirement already satisfied: termcolor in /usr/local/lib/python3.7/dist-packages (from tensorflow-datasets->tf-models-official->object-detection==0.1) (1.1.0)\n",
            "Requirement already satisfied: attrs>=18.1.0 in /usr/local/lib/python3.7/dist-packages (from tensorflow-datasets->tf-models-official->object-detection==0.1) (20.3.0)\n",
            "Requirement already satisfied: tensorflow-metadata in /usr/local/lib/python3.7/dist-packages (from tensorflow-datasets->tf-models-official->object-detection==0.1) (0.29.0)\n",
            "Requirement already satisfied: dm-tree in /usr/local/lib/python3.7/dist-packages (from tensorflow-datasets->tf-models-official->object-detection==0.1) (0.1.6)\n",
            "Requirement already satisfied: google-auth-httplib2>=0.0.3 in /usr/local/lib/python3.7/dist-packages (from google-api-python-client>=1.6.7->tf-models-official->object-detection==0.1) (0.0.4)\n",
            "Requirement already satisfied: google-api-core<2dev,>=1.21.0 in /usr/local/lib/python3.7/dist-packages (from google-api-python-client>=1.6.7->tf-models-official->object-detection==0.1) (1.26.3)\n",
            "Requirement already satisfied: google-auth>=1.16.0 in /usr/local/lib/python3.7/dist-packages (from google-api-python-client>=1.6.7->tf-models-official->object-detection==0.1) (1.28.1)\n",
            "Requirement already satisfied: uritemplate<4dev,>=3.0.0 in /usr/local/lib/python3.7/dist-packages (from google-api-python-client>=1.6.7->tf-models-official->object-detection==0.1) (3.0.1)\n",
            "Requirement already satisfied: google-pasta~=0.2 in /usr/local/lib/python3.7/dist-packages (from tensorflow>=2.4.0->tf-models-official->object-detection==0.1) (0.2.0)\n",
            "Requirement already satisfied: opt-einsum~=3.3.0 in /usr/local/lib/python3.7/dist-packages (from tensorflow>=2.4.0->tf-models-official->object-detection==0.1) (3.3.0)\n",
            "Requirement already satisfied: flatbuffers~=1.12.0 in /usr/local/lib/python3.7/dist-packages (from tensorflow>=2.4.0->tf-models-official->object-detection==0.1) (1.12)\n",
            "Requirement already satisfied: wrapt~=1.12.1 in /usr/local/lib/python3.7/dist-packages (from tensorflow>=2.4.0->tf-models-official->object-detection==0.1) (1.12.1)\n",
            "Requirement already satisfied: gast==0.3.3 in /usr/local/lib/python3.7/dist-packages (from tensorflow>=2.4.0->tf-models-official->object-detection==0.1) (0.3.3)\n",
            "Collecting tensorflow-estimator<2.5.0,>=2.4.0\n",
            "  Downloading https://files.pythonhosted.org/packages/74/7e/622d9849abf3afb81e482ffc170758742e392ee129ce1540611199a59237/tensorflow_estimator-2.4.0-py2.py3-none-any.whl (462kB)\n",
            "Requirement already satisfied: astunparse~=1.6.3 in /usr/local/lib/python3.7/dist-packages (from tensorflow>=2.4.0->tf-models-official->object-detection==0.1) (1.6.3)\n",
            "Requirement already satisfied: keras-preprocessing~=1.1.2 in /usr/local/lib/python3.7/dist-packages (from tensorflow>=2.4.0->tf-models-official->object-detection==0.1) (1.1.2)\n",
            "Collecting tensorboard~=2.4\n",
            "  Downloading https://files.pythonhosted.org/packages/44/f5/7feea02a3fb54d5db827ac4b822a7ba8933826b36de21880518250b8733a/tensorboard-2.5.0-py3-none-any.whl (6.0MB)\n",
            "Requirement already satisfied: h5py~=2.10.0 in /usr/local/lib/python3.7/dist-packages (from tensorflow>=2.4.0->tf-models-official->object-detection==0.1) (2.10.0)\n",
            "Requirement already satisfied: wheel~=0.35 in /usr/local/lib/python3.7/dist-packages (from tensorflow>=2.4.0->tf-models-official->object-detection==0.1) (0.36.2)\n",
            "Requirement already satisfied: scikit-learn>=0.21.3 in /usr/local/lib/python3.7/dist-packages (from seqeval->tf-models-official->object-detection==0.1) (0.22.2.post1)\n",
            "Requirement already satisfied: google-cloud-core<2.0dev,>=1.0.3 in /usr/local/lib/python3.7/dist-packages (from google-cloud-bigquery>=0.31.0->tf-models-official->object-detection==0.1) (1.0.3)\n",
            "Requirement already satisfied: google-resumable-media!=0.4.0,<0.5.0dev,>=0.3.1 in /usr/local/lib/python3.7/dist-packages (from google-cloud-bigquery>=0.31.0->tf-models-official->object-detection==0.1) (0.4.1)\n",
            "Requirement already satisfied: text-unidecode>=1.3 in /usr/local/lib/python3.7/dist-packages (from python-slugify->kaggle>=1.3.9->tf-models-official->object-detection==0.1) (1.3)\n",
            "Requirement already satisfied: zipp>=0.4; python_version < \"3.8\" in /usr/local/lib/python3.7/dist-packages (from importlib-resources; python_version < \"3.9\"->tensorflow-datasets->tf-models-official->object-detection==0.1) (3.4.1)\n",
            "Requirement already satisfied: googleapis-common-protos<2,>=1.52.0 in /usr/local/lib/python3.7/dist-packages (from tensorflow-metadata->tensorflow-datasets->tf-models-official->object-detection==0.1) (1.53.0)\n",
            "Requirement already satisfied: packaging>=14.3 in /usr/local/lib/python3.7/dist-packages (from google-api-core<2dev,>=1.21.0->google-api-python-client>=1.6.7->tf-models-official->object-detection==0.1) (20.9)\n",
            "Requirement already satisfied: cachetools<5.0,>=2.0.0 in /usr/local/lib/python3.7/dist-packages (from google-auth>=1.16.0->google-api-python-client>=1.6.7->tf-models-official->object-detection==0.1) (4.2.1)\n",
            "Requirement already satisfied: tensorboard-plugin-wit>=1.6.0 in /usr/local/lib/python3.7/dist-packages (from tensorboard~=2.4->tensorflow>=2.4.0->tf-models-official->object-detection==0.1) (1.8.0)\n",
            "Requirement already satisfied: google-auth-oauthlib<0.5,>=0.4.1 in /usr/local/lib/python3.7/dist-packages (from tensorboard~=2.4->tensorflow>=2.4.0->tf-models-official->object-detection==0.1) (0.4.4)\n",
            "Requirement already satisfied: werkzeug>=0.11.15 in /usr/local/lib/python3.7/dist-packages (from tensorboard~=2.4->tensorflow>=2.4.0->tf-models-official->object-detection==0.1) (1.0.1)\n",
            "Collecting tensorboard-data-server<0.7.0,>=0.6.0\n",
            "  Downloading https://files.pythonhosted.org/packages/12/63/d92b4bc44261b7396558c054f78acf71468b5628bcb14cdaeb2504ea80d3/tensorboard_data_server-0.6.0-py3-none-manylinux2010_x86_64.whl (3.9MB)\n",
            "Requirement already satisfied: markdown>=2.6.8 in /usr/local/lib/python3.7/dist-packages (from tensorboard~=2.4->tensorflow>=2.4.0->tf-models-official->object-detection==0.1) (3.3.4)\n",
            "Requirement already satisfied: joblib>=0.11 in /usr/local/lib/python3.7/dist-packages (from scikit-learn>=0.21.3->seqeval->tf-models-official->object-detection==0.1) (1.0.1)\n",
            "Requirement already satisfied: requests-oauthlib>=0.7.0 in /usr/local/lib/python3.7/dist-packages (from google-auth-oauthlib<0.5,>=0.4.1->tensorboard~=2.4->tensorflow>=2.4.0->tf-models-official->object-detection==0.1) (1.3.0)\n",
            "Requirement already satisfied: importlib-metadata; python_version < \"3.8\" in /usr/local/lib/python3.7/dist-packages (from markdown>=2.6.8->tensorboard~=2.4->tensorflow>=2.4.0->tf-models-official->object-detection==0.1) (3.10.1)\n",
            "Requirement already satisfied: oauthlib>=3.0.0 in /usr/local/lib/python3.7/dist-packages (from requests-oauthlib>=0.7.0->google-auth-oauthlib<0.5,>=0.4.1->tensorboard~=2.4->tensorflow>=2.4.0->tf-models-official->object-detection==0.1) (3.1.0)\n",
            "Building wheels for collected packages: object-detection, avro-python3, dill, future, seqeval, py-cpuinfo\n",
            "  Building wheel for object-detection (setup.py): started\n",
            "  Building wheel for object-detection (setup.py): finished with status 'done'\n",
            "  Created wheel for object-detection: filename=object_detection-0.1-cp37-none-any.whl size=1647891 sha256=44477119c6fe767780fe513699b5d7baa230a4aad9375525beb30218ab102ba9\n",
            "  Stored in directory: /tmp/pip-ephem-wheel-cache-a33vyr1p/wheels/94/49/4b/39b051683087a22ef7e80ec52152a27249d1a644ccf4e442ea\n",
            "  Building wheel for avro-python3 (setup.py): started\n",
            "  Building wheel for avro-python3 (setup.py): finished with status 'done'\n",
            "  Created wheel for avro-python3: filename=avro_python3-1.10.2-cp37-none-any.whl size=44011 sha256=eed4e57dbcabfeaa6790ae82a06dd9b5c235ac4c7288711e8802da6abadf898b\n",
            "  Stored in directory: /root/.cache/pip/wheels/ee/ee/18/c466221ca6900e3efce2f4ea9c329288808679aecdcb2838d3\n",
            "  Building wheel for dill (setup.py): started\n",
            "  Building wheel for dill (setup.py): finished with status 'done'\n",
            "  Created wheel for dill: filename=dill-0.3.1.1-cp37-none-any.whl size=78532 sha256=056a15b967aa286727cba7eec6b31877cb603a9071d476e5de914d894b93b80f\n",
            "  Stored in directory: /root/.cache/pip/wheels/59/b1/91/f02e76c732915c4015ab4010f3015469866c1eb9b14058d8e7\n",
            "  Building wheel for future (setup.py): started\n",
            "  Building wheel for future (setup.py): finished with status 'done'\n",
            "  Created wheel for future: filename=future-0.18.2-cp37-none-any.whl size=491058 sha256=303ea1dd0460689629dfaa56f61fe48862f8201327132799a8a1773ac45ea885\n",
            "  Stored in directory: /root/.cache/pip/wheels/8b/99/a0/81daf51dcd359a9377b110a8a886b3895921802d2fc1b2397e\n",
            "  Building wheel for seqeval (setup.py): started\n",
            "  Building wheel for seqeval (setup.py): finished with status 'done'\n",
            "  Created wheel for seqeval: filename=seqeval-1.2.2-cp37-none-any.whl size=16172 sha256=2d68cc2b7feb49137b2748853a9b51483bc405554cc448d1d307f2ac7ae506bd\n",
            "  Stored in directory: /root/.cache/pip/wheels/52/df/1b/45d75646c37428f7e626214704a0e35bd3cfc32eda37e59e5f\n",
            "  Building wheel for py-cpuinfo (setup.py): started\n",
            "  Building wheel for py-cpuinfo (setup.py): finished with status 'done'\n",
            "  Created wheel for py-cpuinfo: filename=py_cpuinfo-8.0.0-cp37-none-any.whl size=22245 sha256=8af97a70e0df71e257191452351acf594e24c40c2b6afea853c33e64a5abb7f7\n",
            "  Stored in directory: /root/.cache/pip/wheels/2e/15/f5/aa2a056d223903b52cf4870134e3a01df0c723816835dd08db\n",
            "Successfully built object-detection avro-python3 dill future seqeval py-cpuinfo\n",
            "Installing collected packages: avro-python3, dill, fastavro, requests, future, hdfs, apache-beam, tf-slim, lvis, opencv-python-headless, sentencepiece, tensorflow-addons, tensorflow-model-optimization, tensorflow-estimator, tensorboard-data-server, tensorboard, tensorflow, dataclasses, pyyaml, seqeval, py-cpuinfo, tf-models-official, object-detection\n",
            "  Found existing installation: dill 0.3.3\n",
            "    Uninstalling dill-0.3.3:\n",
            "      Successfully uninstalled dill-0.3.3\n",
            "  Found existing installation: requests 2.23.0\n",
            "    Uninstalling requests-2.23.0:\n",
            "      Successfully uninstalled requests-2.23.0\n",
            "  Found existing installation: future 0.16.0\n",
            "    Uninstalling future-0.16.0:\n",
            "      Successfully uninstalled future-0.16.0\n",
            "  Found existing installation: tensorflow-estimator 2.2.0\n",
            "    Uninstalling tensorflow-estimator-2.2.0:\n",
            "      Successfully uninstalled tensorflow-estimator-2.2.0\n",
            "  Found existing installation: tensorboard 2.2.2\n",
            "    Uninstalling tensorboard-2.2.2:\n",
            "      Successfully uninstalled tensorboard-2.2.2\n",
            "  Found existing installation: tensorflow 2.2.0\n",
            "    Uninstalling tensorflow-2.2.0:\n",
            "      Successfully uninstalled tensorflow-2.2.0\n",
            "  Found existing installation: PyYAML 3.13\n",
            "    Uninstalling PyYAML-3.13:\n",
            "      Successfully uninstalled PyYAML-3.13\n",
            "Successfully installed apache-beam-2.29.0 avro-python3-1.10.2 dataclasses-0.6 dill-0.3.1.1 fastavro-1.4.0 future-0.18.2 hdfs-2.6.0 lvis-0.5.3 object-detection-0.1 opencv-python-headless-4.5.1.48 py-cpuinfo-8.0.0 pyyaml-5.4.1 requests-2.25.1 sentencepiece-0.1.95 seqeval-1.2.2 tensorboard-2.5.0 tensorboard-data-server-0.6.0 tensorflow-2.4.1 tensorflow-addons-0.12.1 tensorflow-estimator-2.4.0 tensorflow-model-optimization-0.5.0 tf-models-official-2.4.0 tf-slim-1.1.0\n"
          ],
          "name": "stdout"
        },
        {
          "output_type": "stream",
          "text": [
            "ERROR: multiprocess 0.70.11.1 has requirement dill>=0.3.3, but you'll have dill 0.3.1.1 which is incompatible.\n",
            "ERROR: google-colab 1.0.0 has requirement requests~=2.23.0, but you'll have requests 2.25.1 which is incompatible.\n",
            "ERROR: datascience 0.10.6 has requirement folium==0.2.1, but you'll have folium 0.8.3 which is incompatible.\n",
            "ERROR: apache-beam 2.29.0 has requirement avro-python3!=1.9.2,<1.10.0,>=1.8.1, but you'll have avro-python3 1.10.2 which is incompatible.\n"
          ],
          "name": "stderr"
        }
      ]
    },
    {
      "cell_type": "code",
      "metadata": {
        "id": "xvIq0oey3TTY"
      },
      "source": [
        "import matplotlib\n",
        "import matplotlib.pyplot as plt\n",
        "\n",
        "import os\n",
        "import random\n",
        "import io\n",
        "import imageio\n",
        "import glob\n",
        "import scipy.misc\n",
        "import numpy as np\n",
        "from six import BytesIO\n",
        "from PIL import Image, ImageDraw, ImageFont\n",
        "from IPython.display import display, Javascript\n",
        "from IPython.display import Image as IPyImage\n",
        "\n",
        "import tensorflow as tf"
      ],
      "execution_count": 7,
      "outputs": []
    },
    {
      "cell_type": "code",
      "metadata": {
        "id": "tJA19OLV2Qxi"
      },
      "source": [
        "from object_detection.utils import label_map_util\n",
        "from object_detection.utils import config_util\n",
        "from object_detection.utils import visualization_utils as viz_utils\n",
        "from object_detection.utils import colab_utils\n",
        "from object_detection.builders import model_builder"
      ],
      "execution_count": 8,
      "outputs": []
    },
    {
      "cell_type": "code",
      "metadata": {
        "id": "SzGzfj8g-C3_"
      },
      "source": [
        "def load_image_into_numpy_array(path):\n",
        "  \"\"\"Load an image from file into a numpy array.\n",
        "\n",
        "  Puts image into numpy array to feed into tensorflow graph.\n",
        "  Note that by convention we put it into a numpy array with shape\n",
        "  (height, width, channels), where channels=3 for RGB.\n",
        "\n",
        "  Args:\n",
        "    path: a file path.\n",
        "\n",
        "  Returns:\n",
        "    uint8 numpy array with shape (img_height, img_width, 3)\n",
        "  \"\"\"\n",
        "  img_data = tf.io.gfile.GFile(path, 'rb').read()\n",
        "  image = Image.open(BytesIO(img_data))\n",
        "  (im_width, im_height) = image.size\n",
        "  return np.array(image.getdata()).reshape(\n",
        "      (im_height, im_width, 3)).astype(np.uint8)\n"
      ],
      "execution_count": 9,
      "outputs": []
    },
    {
      "cell_type": "markdown",
      "metadata": {
        "id": "r2vtAK1VkjzP"
      },
      "source": [
        "# Step 1: Bounding Box Detection Detection on Standard Images"
      ]
    },
    {
      "cell_type": "code",
      "metadata": {
        "id": "oi23q0B22aMv"
      },
      "source": [
        "# Load the images as numpy array\n",
        "train_image_dir = 'models/research/object_detection/test_images/'\n",
        "names=os.listdir(train_image_dir)\n",
        "train_images_np = []\n",
        "for i in range(1, 4):\n",
        "  image_path = os.path.join(train_image_dir, 'image' + str(i) + '.jpg')\n",
        "  train_images_np.append(load_image_into_numpy_array(image_path))\n",
        "\n"
      ],
      "execution_count": 10,
      "outputs": []
    },
    {
      "cell_type": "code",
      "metadata": {
        "colab": {
          "base_uri": "https://localhost:8080/",
          "height": 751
        },
        "id": "J6UwojBqBt9K",
        "outputId": "62b0e2bd-94f9-4fea-f8b6-9bdcfc66b7d8"
      },
      "source": [
        "gt_boxes = []\n",
        "colab_utils.annotate(train_images_np, box_storage_pointer=gt_boxes)"
      ],
      "execution_count": 11,
      "outputs": [
        {
          "output_type": "display_data",
          "data": {
            "application/javascript": [
              "\n",
              "              async function load_image(imgs, callbackId) {\n",
              "                  //init organizational elements\n",
              "                  const div = document.createElement('div');\n",
              "                  var image_cont = document.createElement('div');\n",
              "                  var errorlog = document.createElement('div');\n",
              "                  var crosshair_h = document.createElement('div');\n",
              "                  crosshair_h.style.position = \"absolute\";\n",
              "                  crosshair_h.style.backgroundColor = \"transparent\";\n",
              "                  crosshair_h.style.width = \"100%\";\n",
              "                  crosshair_h.style.height = \"0px\";\n",
              "                  crosshair_h.style.zIndex = 9998;\n",
              "                  crosshair_h.style.borderStyle = \"dotted\";\n",
              "                  crosshair_h.style.borderWidth = \"2px\";\n",
              "                  crosshair_h.style.borderColor = \"rgba(255, 0, 0, 0.75)\";\n",
              "                  crosshair_h.style.cursor = \"crosshair\";\n",
              "                  var crosshair_v = document.createElement('div');\n",
              "                  crosshair_v.style.position = \"absolute\";\n",
              "                  crosshair_v.style.backgroundColor = \"transparent\";\n",
              "                  crosshair_v.style.width = \"0px\";\n",
              "                  crosshair_v.style.height = \"100%\";\n",
              "                  crosshair_v.style.zIndex = 9999;\n",
              "                  crosshair_v.style.top = \"0px\";\n",
              "                  crosshair_v.style.borderStyle = \"dotted\";\n",
              "                  crosshair_v.style.borderWidth = \"2px\";\n",
              "                  crosshair_v.style.borderColor = \"rgba(255, 0, 0, 0.75)\";\n",
              "                  crosshair_v.style.cursor = \"crosshair\";\n",
              "                  crosshair_v.style.marginTop = \"23px\";\n",
              "                  var brdiv = document.createElement('br');\n",
              "\n",
              "\n",
              "                  //init control elements\n",
              "                  var next = document.createElement('button');\n",
              "                  var prev = document.createElement('button');\n",
              "                  var submit = document.createElement('button');\n",
              "                  var deleteButton = document.createElement('button');\n",
              "                  var deleteAllbutton = document.createElement('button');\n",
              "\n",
              "                  //init image containers\n",
              "                  var image = new Image();\n",
              "                  var canvas_img = document.createElement('canvas');\n",
              "                  var ctx = canvas_img.getContext(\"2d\");\n",
              "                  canvas_img.style.cursor = \"crosshair\";\n",
              "                  canvas_img.setAttribute('draggable', false);\n",
              "                  crosshair_v.setAttribute('draggable', false);\n",
              "                  crosshair_h.setAttribute('draggable', false);\n",
              "\n",
              "                  // bounding box containers\n",
              "                  const height = 600\n",
              "                  var allBoundingBoxes = [];\n",
              "                  var curr_image = 0\n",
              "                  var im_height = 0;\n",
              "                  var im_width = 0;\n",
              "\n",
              "                  //initialize bounding boxes\n",
              "                  for (var i = 0; i < imgs.length; i++) {\n",
              "                    allBoundingBoxes[i] = [];\n",
              "                  }\n",
              "                  //initialize image view\n",
              "                  errorlog.id = 'errorlog';\n",
              "                  image.style.display = 'block';\n",
              "                  image.setAttribute('draggable', false);\n",
              "\n",
              "                  //load the first image\n",
              "                  img = imgs[curr_image];\n",
              "                  image.src = \"data:image/png;base64,\" + img;\n",
              "                  image.onload = function() {\n",
              "                      // normalize display height and canvas\n",
              "                      image.height = height;\n",
              "                      image_cont.height = canvas_img.height = image.height;\n",
              "                      image_cont.width = canvas_img.width = image.naturalWidth;\n",
              "                      crosshair_v.style.height = image_cont.height + \"px\";\n",
              "                      crosshair_h.style.width = image_cont.width + \"px\";\n",
              "\n",
              "                      // draw the new image\n",
              "                      ctx.drawImage(image, 0, 0, image.naturalWidth, image.naturalHeight, 0, 0,  canvas_img.width,  canvas_img.height);\n",
              "\n",
              "                  };\n",
              "\n",
              "                  // move to next image in array\n",
              "                  next.textContent = \"next image\";\n",
              "                  next.onclick = function(){\n",
              "                      if (curr_image < imgs.length - 1){\n",
              "                          // clear canvas and load new image\n",
              "                          curr_image += 1;\n",
              "                          errorlog.innerHTML = \"\";\n",
              "                      }\n",
              "                      else{\n",
              "                          errorlog.innerHTML = \"All images completed!!\";\n",
              "                      }\n",
              "                      resetcanvas();\n",
              "                  }\n",
              "\n",
              "                  //move forward through list of images\n",
              "                  prev.textContent = \"prev image\"\n",
              "                  prev.onclick = function(){\n",
              "                      if (curr_image > 0){\n",
              "                          // clear canvas and load new image\n",
              "                          curr_image -= 1;\n",
              "                          errorlog.innerHTML = \"\";\n",
              "                      }\n",
              "                      else{\n",
              "                          errorlog.innerHTML = \"at the beginning\";\n",
              "                      }\n",
              "                      resetcanvas();\n",
              "                  }\n",
              "                  // on delete, deletes the last bounding box\n",
              "                  deleteButton.textContent = \"undo bbox\";\n",
              "                  deleteButton.onclick = function(){\n",
              "                    boundingBoxes.pop();\n",
              "                    ctx.clearRect(0, 0, canvas_img.width, canvas_img.height);\n",
              "                    image.src = \"data:image/png;base64,\" + img;\n",
              "                    image.onload = function() {\n",
              "                        ctx.drawImage(image, 0, 0, image.naturalWidth, image.naturalHeight, 0, 0,  canvas_img.width,  canvas_img.height);\n",
              "                        boundingBoxes.map(r => {drawRect(r)});\n",
              "                    };\n",
              "                  }\n",
              "                  // on all delete, deletes all of the bounding box\n",
              "                  deleteAllbutton.textContent = \"delete all\"\n",
              "                  deleteAllbutton.onclick = function(){\n",
              "                    boundingBoxes = [];\n",
              "                    ctx.clearRect(0, 0, canvas_img.width, canvas_img.height);\n",
              "                    image.src = \"data:image/png;base64,\" + img;\n",
              "                    image.onload = function() {\n",
              "                        ctx.drawImage(image, 0, 0, image.naturalWidth, image.naturalHeight, 0, 0,  canvas_img.width,  canvas_img.height);\n",
              "                        //boundingBoxes.map(r => {drawRect(r)});\n",
              "                    };\n",
              "                  }\n",
              "\n",
              "                  // on submit, send the boxes to display\n",
              "                  submit.textContent = \"submit\";\n",
              "                  submit.onclick = function(){\n",
              "                    errorlog.innerHTML = \"\";\n",
              "\n",
              "                    // send box data to callback fucntion\n",
              "                    google.colab.kernel.invokeFunction(callbackId, [allBoundingBoxes], {});\n",
              "                  }\n",
              "\n",
              "                // init template for annotations\n",
              "                const annotation = {\n",
              "                      x: 0,\n",
              "                      y: 0,\n",
              "                      w: 0,\n",
              "                      h: 0,\n",
              "                };\n",
              "\n",
              "                // the array of all rectangles\n",
              "                let boundingBoxes = allBoundingBoxes[curr_image];\n",
              "\n",
              "                // the actual rectangle, the one that is being drawn\n",
              "                let o = {};\n",
              "\n",
              "                // a variable to store the mouse position\n",
              "                let m = {},\n",
              "\n",
              "                // a variable to store the point where you begin to draw the\n",
              "                // rectangle\n",
              "                start = {};\n",
              "\n",
              "                // a boolean variable to store the drawing state\n",
              "                let isDrawing = false;\n",
              "                var elem = null;\n",
              "\n",
              "                function handleMouseDown(e) {\n",
              "                  // on mouse click set change the cursor and start tracking the mouse position\n",
              "                  start = oMousePos(canvas_img, e);\n",
              "\n",
              "                  // configure is drawing to true\n",
              "                  isDrawing = true;\n",
              "                }\n",
              "\n",
              "                function handleMouseMove(e) {\n",
              "                    // move crosshairs, but only within the bounds of the canvas\n",
              "                    if (document.elementsFromPoint(e.pageX, e.pageY).includes(canvas_img)) {\n",
              "                      crosshair_h.style.top = e.pageY + \"px\";\n",
              "                      crosshair_v.style.left = e.pageX + \"px\";\n",
              "                    }\n",
              "\n",
              "                    // move the bounding box\n",
              "                    if(isDrawing){\n",
              "                      m = oMousePos(canvas_img, e);\n",
              "                      draw();\n",
              "                    }\n",
              "                }\n",
              "\n",
              "                function handleMouseUp(e) {\n",
              "                    if (isDrawing) {\n",
              "                        // on mouse release, push a bounding box to array and draw all boxes\n",
              "                        isDrawing = false;\n",
              "\n",
              "                        const box = Object.create(annotation);\n",
              "\n",
              "                        // calculate the position of the rectangle\n",
              "                        if (o.w > 0){\n",
              "                          box.x = o.x;\n",
              "                        }\n",
              "                        else{\n",
              "                          box.x = o.x + o.w;\n",
              "                        }\n",
              "                        if (o.h > 0){\n",
              "                          box.y = o.y;\n",
              "                        }\n",
              "                        else{\n",
              "                          box.y = o.y + o.h;\n",
              "                        }\n",
              "                        box.w = Math.abs(o.w);\n",
              "                        box.h = Math.abs(o.h);\n",
              "\n",
              "                        // add the bounding box to the image\n",
              "                        boundingBoxes.push(box);\n",
              "                        draw();\n",
              "                    }\n",
              "                }\n",
              "\n",
              "                function draw() {\n",
              "                    o.x = (start.x)/image.width;  // start position of x\n",
              "                    o.y = (start.y)/image.height;  // start position of y\n",
              "                    o.w = (m.x - start.x)/image.width;  // width\n",
              "                    o.h = (m.y - start.y)/image.height;  // height\n",
              "\n",
              "                    ctx.clearRect(0, 0, canvas_img.width, canvas_img.height);\n",
              "                    ctx.drawImage(image, 0, 0, image.naturalWidth, image.naturalHeight, 0, 0,  canvas_img.width,  canvas_img.height);\n",
              "                    // draw all the rectangles saved in the rectsRy\n",
              "                    boundingBoxes.map(r => {drawRect(r)});\n",
              "                    // draw the actual rectangle\n",
              "                    drawRect(o);\n",
              "                }\n",
              "\n",
              "                // add the handlers needed for dragging\n",
              "                crosshair_h.addEventListener(\"mousedown\", handleMouseDown);\n",
              "                crosshair_v.addEventListener(\"mousedown\", handleMouseDown);\n",
              "                document.addEventListener(\"mousemove\", handleMouseMove);\n",
              "                document.addEventListener(\"mouseup\", handleMouseUp);\n",
              "\n",
              "\n",
              "                function resetcanvas(){\n",
              "                    // clear canvas\n",
              "                    ctx.clearRect(0, 0, canvas_img.width, canvas_img.height);\n",
              "                    img = imgs[curr_image]\n",
              "                    image.src = \"data:image/png;base64,\" + img;\n",
              "\n",
              "                    // onload init new canvas and display image\n",
              "                    image.onload = function() {\n",
              "                        // normalize display height and canvas\n",
              "                        image.height = height;\n",
              "                        image_cont.height = canvas_img.height = image.height;\n",
              "                        image_cont.width = canvas_img.width = image.naturalWidth;\n",
              "                        crosshair_v.style.height = image_cont.height + \"px\";\n",
              "                        crosshair_h.style.width = image_cont.width + \"px\";\n",
              "\n",
              "                        // draw the new image\n",
              "                        ctx.drawImage(image, 0, 0, image.naturalWidth, image.naturalHeight, 0, 0,  canvas_img.width,  canvas_img.height);\n",
              "\n",
              "                        // draw bounding boxes\n",
              "                        boundingBoxes = allBoundingBoxes[curr_image];\n",
              "                        boundingBoxes.map(r => {drawRect(r)});\n",
              "                    };\n",
              "                }\n",
              "\n",
              "                function drawRect(o){\n",
              "                    // draw a predefined rectangle\n",
              "                    ctx.strokeStyle = \"red\";\n",
              "                    ctx.lineWidth = 2;\n",
              "                    ctx.beginPath(o);\n",
              "                    ctx.rect(o.x * image.width, o.y * image.height, o.w * image.width, o.h * image.height);\n",
              "                    ctx.stroke();\n",
              "                }\n",
              "\n",
              "                // Function to detect the mouse position\n",
              "                function oMousePos(canvas_img, evt) {\n",
              "                  let ClientRect = canvas_img.getBoundingClientRect();\n",
              "                    return {\n",
              "                      x: evt.clientX - ClientRect.left,\n",
              "                      y: evt.clientY - ClientRect.top\n",
              "                    };\n",
              "                }\n",
              "\n",
              "\n",
              "                //configure colab output display\n",
              "                google.colab.output.setIframeHeight(document.documentElement.scrollHeight, true);\n",
              "\n",
              "                //build the html document that will be seen in output\n",
              "                div.appendChild(document.createElement('br'))\n",
              "                div.appendChild(image_cont)\n",
              "                image_cont.appendChild(canvas_img)\n",
              "                image_cont.appendChild(crosshair_h)\n",
              "                image_cont.appendChild(crosshair_v)\n",
              "                div.appendChild(document.createElement('br'))\n",
              "                div.appendChild(errorlog)\n",
              "                div.appendChild(prev)\n",
              "                div.appendChild(next)\n",
              "                div.appendChild(deleteButton)\n",
              "                div.appendChild(deleteAllbutton)\n",
              "                div.appendChild(document.createElement('br'))\n",
              "                div.appendChild(brdiv)\n",
              "                div.appendChild(submit)\n",
              "                document.querySelector(\"#output-area\").appendChild(div);\n",
              "                return\n",
              "            }"
            ],
            "text/plain": [
              "<IPython.core.display.Javascript object>"
            ]
          },
          "metadata": {
            "tags": []
          }
        },
        {
          "output_type": "display_data",
          "data": {
            "application/javascript": [
              "window[\"d9f63c9a-ad63-11eb-b305-0242ac1c0002\"] = google.colab.output.getActiveOutputArea();\n",
              "//# sourceURL=js_48184291e4"
            ],
            "text/plain": [
              "<IPython.core.display.Javascript object>"
            ]
          },
          "metadata": {
            "tags": []
          }
        },
        {
          "output_type": "display_data",
          "data": {
            "application/javascript": [
              "window[\"d9f6becc-ad63-11eb-b305-0242ac1c0002\"] = document.querySelector(\"#errorlog\");\n",
              "//# sourceURL=js_790ec5e09f"
            ],
            "text/plain": [
              "<IPython.core.display.Javascript object>"
            ]
          },
          "metadata": {
            "tags": []
          }
        },
        {
          "output_type": "display_data",
          "data": {
            "application/javascript": [
              "window[\"d9f73244-ad63-11eb-b305-0242ac1c0002\"] = google.colab.output.setActiveOutputArea(window[\"d9f6becc-ad63-11eb-b305-0242ac1c0002\"]);\n",
              "//# sourceURL=js_bd6c546a58"
            ],
            "text/plain": [
              "<IPython.core.display.Javascript object>"
            ]
          },
          "metadata": {
            "tags": []
          }
        },
        {
          "output_type": "display_data",
          "data": {
            "application/vnd.google.colaboratory.intrinsic+json": {
              "type": "string"
            },
            "text/plain": [
              "'--boxes array populated--'"
            ]
          },
          "metadata": {
            "tags": []
          }
        },
        {
          "output_type": "display_data",
          "data": {
            "application/javascript": [
              "window[\"d9f8003e-ad63-11eb-b305-0242ac1c0002\"] = google.colab.output.setActiveOutputArea(window[\"d9f63c9a-ad63-11eb-b305-0242ac1c0002\"]);\n",
              "//# sourceURL=js_5d4d97d928"
            ],
            "text/plain": [
              "<IPython.core.display.Javascript object>"
            ]
          },
          "metadata": {
            "tags": []
          }
        },
        {
          "output_type": "display_data",
          "data": {
            "application/javascript": [
              "window[\"f08cd0a4-ad63-11eb-b305-0242ac1c0002\"] = google.colab.output.getActiveOutputArea();\n",
              "//# sourceURL=js_2851c42cf2"
            ],
            "text/plain": [
              "<IPython.core.display.Javascript object>"
            ]
          },
          "metadata": {
            "tags": []
          }
        },
        {
          "output_type": "display_data",
          "data": {
            "application/javascript": [
              "window[\"f08d6cee-ad63-11eb-b305-0242ac1c0002\"] = document.querySelector(\"#errorlog\");\n",
              "//# sourceURL=js_f9d27b858b"
            ],
            "text/plain": [
              "<IPython.core.display.Javascript object>"
            ]
          },
          "metadata": {
            "tags": []
          }
        },
        {
          "output_type": "display_data",
          "data": {
            "application/javascript": [
              "window[\"f08e0db6-ad63-11eb-b305-0242ac1c0002\"] = google.colab.output.setActiveOutputArea(window[\"f08d6cee-ad63-11eb-b305-0242ac1c0002\"]);\n",
              "//# sourceURL=js_cc46f5dccd"
            ],
            "text/plain": [
              "<IPython.core.display.Javascript object>"
            ]
          },
          "metadata": {
            "tags": []
          }
        },
        {
          "output_type": "display_data",
          "data": {
            "application/vnd.google.colaboratory.intrinsic+json": {
              "type": "string"
            },
            "text/plain": [
              "'--boxes array populated--'"
            ]
          },
          "metadata": {
            "tags": []
          }
        },
        {
          "output_type": "display_data",
          "data": {
            "application/javascript": [
              "window[\"f08f37fe-ad63-11eb-b305-0242ac1c0002\"] = google.colab.output.setActiveOutputArea(window[\"f08cd0a4-ad63-11eb-b305-0242ac1c0002\"]);\n",
              "//# sourceURL=js_80f886ace0"
            ],
            "text/plain": [
              "<IPython.core.display.Javascript object>"
            ]
          },
          "metadata": {
            "tags": []
          }
        },
        {
          "output_type": "display_data",
          "data": {
            "application/javascript": [
              "window[\"f9f02ce0-ad63-11eb-b305-0242ac1c0002\"] = google.colab.output.getActiveOutputArea();\n",
              "//# sourceURL=js_8cae101baf"
            ],
            "text/plain": [
              "<IPython.core.display.Javascript object>"
            ]
          },
          "metadata": {
            "tags": []
          }
        },
        {
          "output_type": "display_data",
          "data": {
            "application/javascript": [
              "window[\"f9f0d866-ad63-11eb-b305-0242ac1c0002\"] = document.querySelector(\"#errorlog\");\n",
              "//# sourceURL=js_895f2e2b45"
            ],
            "text/plain": [
              "<IPython.core.display.Javascript object>"
            ]
          },
          "metadata": {
            "tags": []
          }
        },
        {
          "output_type": "display_data",
          "data": {
            "application/javascript": [
              "window[\"f9f1a070-ad63-11eb-b305-0242ac1c0002\"] = google.colab.output.setActiveOutputArea(window[\"f9f0d866-ad63-11eb-b305-0242ac1c0002\"]);\n",
              "//# sourceURL=js_29da989d4f"
            ],
            "text/plain": [
              "<IPython.core.display.Javascript object>"
            ]
          },
          "metadata": {
            "tags": []
          }
        },
        {
          "output_type": "display_data",
          "data": {
            "application/vnd.google.colaboratory.intrinsic+json": {
              "type": "string"
            },
            "text/plain": [
              "'--boxes array populated--'"
            ]
          },
          "metadata": {
            "tags": []
          }
        },
        {
          "output_type": "display_data",
          "data": {
            "application/javascript": [
              "window[\"f9f2fc40-ad63-11eb-b305-0242ac1c0002\"] = google.colab.output.setActiveOutputArea(window[\"f9f02ce0-ad63-11eb-b305-0242ac1c0002\"]);\n",
              "//# sourceURL=js_f52020ea70"
            ],
            "text/plain": [
              "<IPython.core.display.Javascript object>"
            ]
          },
          "metadata": {
            "tags": []
          }
        }
      ]
    },
    {
      "cell_type": "code",
      "metadata": {
        "colab": {
          "base_uri": "https://localhost:8080/"
        },
        "id": "8Yw105MNBE3H",
        "outputId": "0e10fe79-3f35-4791-ba99-037fd8991715"
      },
      "source": [
        "gt_boxes"
      ],
      "execution_count": 12,
      "outputs": [
        {
          "output_type": "execute_result",
          "data": {
            "text/plain": [
              "[array([[0.055     , 0.03027344, 0.055     , 0.03027344],\n",
              "        [0.04166667, 0.01953125, 0.85833333, 0.30175781],\n",
              "        [0.10166667, 0.3984375 , 0.93833333, 0.97558594]]),\n",
              " array([[0.07666667, 0.43565089, 0.17333333, 0.4933432 ],\n",
              "        [0.24666667, 0.20340237, 0.315     , 0.22559172],\n",
              "        [0.37      , 0.34097633, 0.40666667, 0.36464497],\n",
              "        [0.38      , 0.42233728, 0.425     , 0.44674556],\n",
              "        [0.42166667, 0.79215976, 0.47      , 0.8158284 ],\n",
              "        [0.55333333, 0.3816568 , 0.605     , 0.41198225],\n",
              "        [0.675     , 0.07914201, 0.85166667, 0.12278107],\n",
              "        [0.75666667, 0.15236686, 0.94666667, 0.20340237],\n",
              "        [0.55833333, 0.05695266, 0.63166667, 0.08136095]]),\n",
              " array([[0.505     , 0.44427083, 0.63333333, 0.5390625 ],\n",
              "        [0.46      , 0.55052083, 0.58166667, 0.62604167],\n",
              "        [0.39666667, 0.7390625 , 0.54833333, 0.784375  ],\n",
              "        [0.47166667, 0.83125   , 0.64      , 0.89322917],\n",
              "        [0.415     , 0.7296875 , 0.55333333, 0.8265625 ]])]"
            ]
          },
          "metadata": {
            "tags": []
          },
          "execution_count": 12
        }
      ]
    },
    {
      "cell_type": "code",
      "metadata": {
        "colab": {
          "base_uri": "https://localhost:8080/"
        },
        "id": "ja22bjHGnNnQ",
        "outputId": "2d29354c-05f9-4f75-ab46-9c00f3e0b4da"
      },
      "source": [
        "#Connect the code to Google drive to dump the annotations there\n",
        "# Now point to the folder with the images to be annotated\n",
        "from google.colab import drive\n",
        "drive.mount('/content/drive')"
      ],
      "execution_count": 13,
      "outputs": [
        {
          "output_type": "stream",
          "text": [
            "Mounted at /content/drive\n"
          ],
          "name": "stdout"
        }
      ]
    },
    {
      "cell_type": "code",
      "metadata": {
        "colab": {
          "base_uri": "https://localhost:8080/"
        },
        "id": "XHyPwqsSna1K",
        "outputId": "d7ba0107-d2bc-4386-a57f-190262ab0473"
      },
      "source": [
        "import os\n",
        "# The path below should point to the directory containing this notebook and the associated utility files\n",
        "# Change it if necessary\n",
        "os.chdir('/content/drive/MyDrive/Annotation/')\n",
        "!ls"
      ],
      "execution_count": 15,
      "outputs": [
        {
          "output_type": "stream",
          "text": [
            "data_others.gdoc  data_others.txt  STARE\n"
          ],
          "name": "stdout"
        }
      ]
    },
    {
      "cell_type": "code",
      "metadata": {
        "id": "lLLeyGEsmkZJ"
      },
      "source": [
        "# Finally write the annotations to a file\n",
        "import json\n",
        "import numpy as np\n",
        "data={}\n",
        "data['bounding box']=[]\n",
        "data['bounding box'].append(gt_boxes)\n",
        "\n",
        "class NumpyEncoder(json.JSONEncoder):\n",
        "    \"\"\" Special json encoder for numpy types \"\"\"\n",
        "    def default(self, obj):\n",
        "        if isinstance(obj, np.integer):\n",
        "            return int(obj)\n",
        "        elif isinstance(obj, np.floating):\n",
        "            return float(obj)\n",
        "        elif isinstance(obj, np.ndarray):\n",
        "            return obj.tolist()\n",
        "        return json.JSONEncoder.default(self, obj)\n",
        "\n",
        "dumped = json.dumps(data, cls=NumpyEncoder)"
      ],
      "execution_count": 16,
      "outputs": []
    },
    {
      "cell_type": "code",
      "metadata": {
        "id": "3A4dUfDeoiQz"
      },
      "source": [
        "with open('data_others.txt', 'w') as f:\n",
        "    json.dump(dumped, f)"
      ],
      "execution_count": 17,
      "outputs": []
    },
    {
      "cell_type": "markdown",
      "metadata": {
        "id": "XOsitup4khac"
      },
      "source": [
        "# Step 2: Annotate Medical Images from Google Drive"
      ]
    },
    {
      "cell_type": "code",
      "metadata": {
        "id": "ii2GVa1sDFOY",
        "colab": {
          "base_uri": "https://localhost:8080/"
        },
        "outputId": "b2cabd58-db45-42aa-f4bf-39b8ca8e51cb"
      },
      "source": [
        "os.chdir('/content/drive/MyDrive/Annotation/STARE/jpgs/')\n",
        "!ls"
      ],
      "execution_count": 18,
      "outputs": [
        {
          "output_type": "stream",
          "text": [
            "im0001.jpg  im0002.jpg\tim0139.jpg\n"
          ],
          "name": "stdout"
        }
      ]
    },
    {
      "cell_type": "code",
      "metadata": {
        "id": "8-SmNSmWo6Jn"
      },
      "source": [
        "#Load the images as numpy array\n",
        "train_image_dir = './'\n",
        "names=os.listdir(train_image_dir)\n",
        "train_images_np = []\n",
        "for i in range(len(names)):\n",
        "  image_path = os.path.join(train_image_dir, names[i])\n",
        "  train_images_np.append(load_image_into_numpy_array(image_path))"
      ],
      "execution_count": 19,
      "outputs": []
    },
    {
      "cell_type": "code",
      "metadata": {
        "colab": {
          "base_uri": "https://localhost:8080/",
          "height": 731
        },
        "id": "L4g-XA-WrnN4",
        "outputId": "3caca2e2-47db-477f-df72-94872456e0d0"
      },
      "source": [
        "gt_boxes = []\n",
        "colab_utils.annotate(train_images_np, box_storage_pointer=gt_boxes)"
      ],
      "execution_count": 20,
      "outputs": [
        {
          "output_type": "display_data",
          "data": {
            "application/javascript": [
              "\n",
              "              async function load_image(imgs, callbackId) {\n",
              "                  //init organizational elements\n",
              "                  const div = document.createElement('div');\n",
              "                  var image_cont = document.createElement('div');\n",
              "                  var errorlog = document.createElement('div');\n",
              "                  var crosshair_h = document.createElement('div');\n",
              "                  crosshair_h.style.position = \"absolute\";\n",
              "                  crosshair_h.style.backgroundColor = \"transparent\";\n",
              "                  crosshair_h.style.width = \"100%\";\n",
              "                  crosshair_h.style.height = \"0px\";\n",
              "                  crosshair_h.style.zIndex = 9998;\n",
              "                  crosshair_h.style.borderStyle = \"dotted\";\n",
              "                  crosshair_h.style.borderWidth = \"2px\";\n",
              "                  crosshair_h.style.borderColor = \"rgba(255, 0, 0, 0.75)\";\n",
              "                  crosshair_h.style.cursor = \"crosshair\";\n",
              "                  var crosshair_v = document.createElement('div');\n",
              "                  crosshair_v.style.position = \"absolute\";\n",
              "                  crosshair_v.style.backgroundColor = \"transparent\";\n",
              "                  crosshair_v.style.width = \"0px\";\n",
              "                  crosshair_v.style.height = \"100%\";\n",
              "                  crosshair_v.style.zIndex = 9999;\n",
              "                  crosshair_v.style.top = \"0px\";\n",
              "                  crosshair_v.style.borderStyle = \"dotted\";\n",
              "                  crosshair_v.style.borderWidth = \"2px\";\n",
              "                  crosshair_v.style.borderColor = \"rgba(255, 0, 0, 0.75)\";\n",
              "                  crosshair_v.style.cursor = \"crosshair\";\n",
              "                  crosshair_v.style.marginTop = \"23px\";\n",
              "                  var brdiv = document.createElement('br');\n",
              "\n",
              "\n",
              "                  //init control elements\n",
              "                  var next = document.createElement('button');\n",
              "                  var prev = document.createElement('button');\n",
              "                  var submit = document.createElement('button');\n",
              "                  var deleteButton = document.createElement('button');\n",
              "                  var deleteAllbutton = document.createElement('button');\n",
              "\n",
              "                  //init image containers\n",
              "                  var image = new Image();\n",
              "                  var canvas_img = document.createElement('canvas');\n",
              "                  var ctx = canvas_img.getContext(\"2d\");\n",
              "                  canvas_img.style.cursor = \"crosshair\";\n",
              "                  canvas_img.setAttribute('draggable', false);\n",
              "                  crosshair_v.setAttribute('draggable', false);\n",
              "                  crosshair_h.setAttribute('draggable', false);\n",
              "\n",
              "                  // bounding box containers\n",
              "                  const height = 600\n",
              "                  var allBoundingBoxes = [];\n",
              "                  var curr_image = 0\n",
              "                  var im_height = 0;\n",
              "                  var im_width = 0;\n",
              "\n",
              "                  //initialize bounding boxes\n",
              "                  for (var i = 0; i < imgs.length; i++) {\n",
              "                    allBoundingBoxes[i] = [];\n",
              "                  }\n",
              "                  //initialize image view\n",
              "                  errorlog.id = 'errorlog';\n",
              "                  image.style.display = 'block';\n",
              "                  image.setAttribute('draggable', false);\n",
              "\n",
              "                  //load the first image\n",
              "                  img = imgs[curr_image];\n",
              "                  image.src = \"data:image/png;base64,\" + img;\n",
              "                  image.onload = function() {\n",
              "                      // normalize display height and canvas\n",
              "                      image.height = height;\n",
              "                      image_cont.height = canvas_img.height = image.height;\n",
              "                      image_cont.width = canvas_img.width = image.naturalWidth;\n",
              "                      crosshair_v.style.height = image_cont.height + \"px\";\n",
              "                      crosshair_h.style.width = image_cont.width + \"px\";\n",
              "\n",
              "                      // draw the new image\n",
              "                      ctx.drawImage(image, 0, 0, image.naturalWidth, image.naturalHeight, 0, 0,  canvas_img.width,  canvas_img.height);\n",
              "\n",
              "                  };\n",
              "\n",
              "                  // move to next image in array\n",
              "                  next.textContent = \"next image\";\n",
              "                  next.onclick = function(){\n",
              "                      if (curr_image < imgs.length - 1){\n",
              "                          // clear canvas and load new image\n",
              "                          curr_image += 1;\n",
              "                          errorlog.innerHTML = \"\";\n",
              "                      }\n",
              "                      else{\n",
              "                          errorlog.innerHTML = \"All images completed!!\";\n",
              "                      }\n",
              "                      resetcanvas();\n",
              "                  }\n",
              "\n",
              "                  //move forward through list of images\n",
              "                  prev.textContent = \"prev image\"\n",
              "                  prev.onclick = function(){\n",
              "                      if (curr_image > 0){\n",
              "                          // clear canvas and load new image\n",
              "                          curr_image -= 1;\n",
              "                          errorlog.innerHTML = \"\";\n",
              "                      }\n",
              "                      else{\n",
              "                          errorlog.innerHTML = \"at the beginning\";\n",
              "                      }\n",
              "                      resetcanvas();\n",
              "                  }\n",
              "                  // on delete, deletes the last bounding box\n",
              "                  deleteButton.textContent = \"undo bbox\";\n",
              "                  deleteButton.onclick = function(){\n",
              "                    boundingBoxes.pop();\n",
              "                    ctx.clearRect(0, 0, canvas_img.width, canvas_img.height);\n",
              "                    image.src = \"data:image/png;base64,\" + img;\n",
              "                    image.onload = function() {\n",
              "                        ctx.drawImage(image, 0, 0, image.naturalWidth, image.naturalHeight, 0, 0,  canvas_img.width,  canvas_img.height);\n",
              "                        boundingBoxes.map(r => {drawRect(r)});\n",
              "                    };\n",
              "                  }\n",
              "                  // on all delete, deletes all of the bounding box\n",
              "                  deleteAllbutton.textContent = \"delete all\"\n",
              "                  deleteAllbutton.onclick = function(){\n",
              "                    boundingBoxes = [];\n",
              "                    ctx.clearRect(0, 0, canvas_img.width, canvas_img.height);\n",
              "                    image.src = \"data:image/png;base64,\" + img;\n",
              "                    image.onload = function() {\n",
              "                        ctx.drawImage(image, 0, 0, image.naturalWidth, image.naturalHeight, 0, 0,  canvas_img.width,  canvas_img.height);\n",
              "                        //boundingBoxes.map(r => {drawRect(r)});\n",
              "                    };\n",
              "                  }\n",
              "\n",
              "                  // on submit, send the boxes to display\n",
              "                  submit.textContent = \"submit\";\n",
              "                  submit.onclick = function(){\n",
              "                    errorlog.innerHTML = \"\";\n",
              "\n",
              "                    // send box data to callback fucntion\n",
              "                    google.colab.kernel.invokeFunction(callbackId, [allBoundingBoxes], {});\n",
              "                  }\n",
              "\n",
              "                // init template for annotations\n",
              "                const annotation = {\n",
              "                      x: 0,\n",
              "                      y: 0,\n",
              "                      w: 0,\n",
              "                      h: 0,\n",
              "                };\n",
              "\n",
              "                // the array of all rectangles\n",
              "                let boundingBoxes = allBoundingBoxes[curr_image];\n",
              "\n",
              "                // the actual rectangle, the one that is being drawn\n",
              "                let o = {};\n",
              "\n",
              "                // a variable to store the mouse position\n",
              "                let m = {},\n",
              "\n",
              "                // a variable to store the point where you begin to draw the\n",
              "                // rectangle\n",
              "                start = {};\n",
              "\n",
              "                // a boolean variable to store the drawing state\n",
              "                let isDrawing = false;\n",
              "                var elem = null;\n",
              "\n",
              "                function handleMouseDown(e) {\n",
              "                  // on mouse click set change the cursor and start tracking the mouse position\n",
              "                  start = oMousePos(canvas_img, e);\n",
              "\n",
              "                  // configure is drawing to true\n",
              "                  isDrawing = true;\n",
              "                }\n",
              "\n",
              "                function handleMouseMove(e) {\n",
              "                    // move crosshairs, but only within the bounds of the canvas\n",
              "                    if (document.elementsFromPoint(e.pageX, e.pageY).includes(canvas_img)) {\n",
              "                      crosshair_h.style.top = e.pageY + \"px\";\n",
              "                      crosshair_v.style.left = e.pageX + \"px\";\n",
              "                    }\n",
              "\n",
              "                    // move the bounding box\n",
              "                    if(isDrawing){\n",
              "                      m = oMousePos(canvas_img, e);\n",
              "                      draw();\n",
              "                    }\n",
              "                }\n",
              "\n",
              "                function handleMouseUp(e) {\n",
              "                    if (isDrawing) {\n",
              "                        // on mouse release, push a bounding box to array and draw all boxes\n",
              "                        isDrawing = false;\n",
              "\n",
              "                        const box = Object.create(annotation);\n",
              "\n",
              "                        // calculate the position of the rectangle\n",
              "                        if (o.w > 0){\n",
              "                          box.x = o.x;\n",
              "                        }\n",
              "                        else{\n",
              "                          box.x = o.x + o.w;\n",
              "                        }\n",
              "                        if (o.h > 0){\n",
              "                          box.y = o.y;\n",
              "                        }\n",
              "                        else{\n",
              "                          box.y = o.y + o.h;\n",
              "                        }\n",
              "                        box.w = Math.abs(o.w);\n",
              "                        box.h = Math.abs(o.h);\n",
              "\n",
              "                        // add the bounding box to the image\n",
              "                        boundingBoxes.push(box);\n",
              "                        draw();\n",
              "                    }\n",
              "                }\n",
              "\n",
              "                function draw() {\n",
              "                    o.x = (start.x)/image.width;  // start position of x\n",
              "                    o.y = (start.y)/image.height;  // start position of y\n",
              "                    o.w = (m.x - start.x)/image.width;  // width\n",
              "                    o.h = (m.y - start.y)/image.height;  // height\n",
              "\n",
              "                    ctx.clearRect(0, 0, canvas_img.width, canvas_img.height);\n",
              "                    ctx.drawImage(image, 0, 0, image.naturalWidth, image.naturalHeight, 0, 0,  canvas_img.width,  canvas_img.height);\n",
              "                    // draw all the rectangles saved in the rectsRy\n",
              "                    boundingBoxes.map(r => {drawRect(r)});\n",
              "                    // draw the actual rectangle\n",
              "                    drawRect(o);\n",
              "                }\n",
              "\n",
              "                // add the handlers needed for dragging\n",
              "                crosshair_h.addEventListener(\"mousedown\", handleMouseDown);\n",
              "                crosshair_v.addEventListener(\"mousedown\", handleMouseDown);\n",
              "                document.addEventListener(\"mousemove\", handleMouseMove);\n",
              "                document.addEventListener(\"mouseup\", handleMouseUp);\n",
              "\n",
              "\n",
              "                function resetcanvas(){\n",
              "                    // clear canvas\n",
              "                    ctx.clearRect(0, 0, canvas_img.width, canvas_img.height);\n",
              "                    img = imgs[curr_image]\n",
              "                    image.src = \"data:image/png;base64,\" + img;\n",
              "\n",
              "                    // onload init new canvas and display image\n",
              "                    image.onload = function() {\n",
              "                        // normalize display height and canvas\n",
              "                        image.height = height;\n",
              "                        image_cont.height = canvas_img.height = image.height;\n",
              "                        image_cont.width = canvas_img.width = image.naturalWidth;\n",
              "                        crosshair_v.style.height = image_cont.height + \"px\";\n",
              "                        crosshair_h.style.width = image_cont.width + \"px\";\n",
              "\n",
              "                        // draw the new image\n",
              "                        ctx.drawImage(image, 0, 0, image.naturalWidth, image.naturalHeight, 0, 0,  canvas_img.width,  canvas_img.height);\n",
              "\n",
              "                        // draw bounding boxes\n",
              "                        boundingBoxes = allBoundingBoxes[curr_image];\n",
              "                        boundingBoxes.map(r => {drawRect(r)});\n",
              "                    };\n",
              "                }\n",
              "\n",
              "                function drawRect(o){\n",
              "                    // draw a predefined rectangle\n",
              "                    ctx.strokeStyle = \"red\";\n",
              "                    ctx.lineWidth = 2;\n",
              "                    ctx.beginPath(o);\n",
              "                    ctx.rect(o.x * image.width, o.y * image.height, o.w * image.width, o.h * image.height);\n",
              "                    ctx.stroke();\n",
              "                }\n",
              "\n",
              "                // Function to detect the mouse position\n",
              "                function oMousePos(canvas_img, evt) {\n",
              "                  let ClientRect = canvas_img.getBoundingClientRect();\n",
              "                    return {\n",
              "                      x: evt.clientX - ClientRect.left,\n",
              "                      y: evt.clientY - ClientRect.top\n",
              "                    };\n",
              "                }\n",
              "\n",
              "\n",
              "                //configure colab output display\n",
              "                google.colab.output.setIframeHeight(document.documentElement.scrollHeight, true);\n",
              "\n",
              "                //build the html document that will be seen in output\n",
              "                div.appendChild(document.createElement('br'))\n",
              "                div.appendChild(image_cont)\n",
              "                image_cont.appendChild(canvas_img)\n",
              "                image_cont.appendChild(crosshair_h)\n",
              "                image_cont.appendChild(crosshair_v)\n",
              "                div.appendChild(document.createElement('br'))\n",
              "                div.appendChild(errorlog)\n",
              "                div.appendChild(prev)\n",
              "                div.appendChild(next)\n",
              "                div.appendChild(deleteButton)\n",
              "                div.appendChild(deleteAllbutton)\n",
              "                div.appendChild(document.createElement('br'))\n",
              "                div.appendChild(brdiv)\n",
              "                div.appendChild(submit)\n",
              "                document.querySelector(\"#output-area\").appendChild(div);\n",
              "                return\n",
              "            }"
            ],
            "text/plain": [
              "<IPython.core.display.Javascript object>"
            ]
          },
          "metadata": {
            "tags": []
          }
        },
        {
          "output_type": "display_data",
          "data": {
            "application/javascript": [
              "window[\"7aa15f62-ad64-11eb-b305-0242ac1c0002\"] = google.colab.output.getActiveOutputArea();\n",
              "//# sourceURL=js_10b0b1e0df"
            ],
            "text/plain": [
              "<IPython.core.display.Javascript object>"
            ]
          },
          "metadata": {
            "tags": []
          }
        },
        {
          "output_type": "display_data",
          "data": {
            "application/javascript": [
              "window[\"7aa25d18-ad64-11eb-b305-0242ac1c0002\"] = document.querySelector(\"#errorlog\");\n",
              "//# sourceURL=js_6e5cd8f806"
            ],
            "text/plain": [
              "<IPython.core.display.Javascript object>"
            ]
          },
          "metadata": {
            "tags": []
          }
        },
        {
          "output_type": "display_data",
          "data": {
            "application/javascript": [
              "window[\"7aa2da9a-ad64-11eb-b305-0242ac1c0002\"] = google.colab.output.setActiveOutputArea(window[\"7aa25d18-ad64-11eb-b305-0242ac1c0002\"]);\n",
              "//# sourceURL=js_597e43a95c"
            ],
            "text/plain": [
              "<IPython.core.display.Javascript object>"
            ]
          },
          "metadata": {
            "tags": []
          }
        },
        {
          "output_type": "display_data",
          "data": {
            "application/vnd.google.colaboratory.intrinsic+json": {
              "type": "string"
            },
            "text/plain": [
              "'--boxes array populated--'"
            ]
          },
          "metadata": {
            "tags": []
          }
        },
        {
          "output_type": "display_data",
          "data": {
            "application/javascript": [
              "window[\"7aa3a542-ad64-11eb-b305-0242ac1c0002\"] = google.colab.output.setActiveOutputArea(window[\"7aa15f62-ad64-11eb-b305-0242ac1c0002\"]);\n",
              "//# sourceURL=js_ce9b522b75"
            ],
            "text/plain": [
              "<IPython.core.display.Javascript object>"
            ]
          },
          "metadata": {
            "tags": []
          }
        },
        {
          "output_type": "display_data",
          "data": {
            "application/javascript": [
              "window[\"7f0890a2-ad64-11eb-b305-0242ac1c0002\"] = google.colab.output.getActiveOutputArea();\n",
              "//# sourceURL=js_1c61761c13"
            ],
            "text/plain": [
              "<IPython.core.display.Javascript object>"
            ]
          },
          "metadata": {
            "tags": []
          }
        },
        {
          "output_type": "display_data",
          "data": {
            "application/javascript": [
              "window[\"7f0911bc-ad64-11eb-b305-0242ac1c0002\"] = document.querySelector(\"#errorlog\");\n",
              "//# sourceURL=js_0790265115"
            ],
            "text/plain": [
              "<IPython.core.display.Javascript object>"
            ]
          },
          "metadata": {
            "tags": []
          }
        },
        {
          "output_type": "display_data",
          "data": {
            "application/javascript": [
              "window[\"7f09853e-ad64-11eb-b305-0242ac1c0002\"] = google.colab.output.setActiveOutputArea(window[\"7f0911bc-ad64-11eb-b305-0242ac1c0002\"]);\n",
              "//# sourceURL=js_273cdb7465"
            ],
            "text/plain": [
              "<IPython.core.display.Javascript object>"
            ]
          },
          "metadata": {
            "tags": []
          }
        },
        {
          "output_type": "display_data",
          "data": {
            "application/vnd.google.colaboratory.intrinsic+json": {
              "type": "string"
            },
            "text/plain": [
              "'--boxes array populated--'"
            ]
          },
          "metadata": {
            "tags": []
          }
        },
        {
          "output_type": "display_data",
          "data": {
            "application/javascript": [
              "window[\"7f0a5e82-ad64-11eb-b305-0242ac1c0002\"] = google.colab.output.setActiveOutputArea(window[\"7f0890a2-ad64-11eb-b305-0242ac1c0002\"]);\n",
              "//# sourceURL=js_dc621c49fc"
            ],
            "text/plain": [
              "<IPython.core.display.Javascript object>"
            ]
          },
          "metadata": {
            "tags": []
          }
        },
        {
          "output_type": "display_data",
          "data": {
            "application/javascript": [
              "window[\"84d4e404-ad64-11eb-b305-0242ac1c0002\"] = google.colab.output.getActiveOutputArea();\n",
              "//# sourceURL=js_e14f1945df"
            ],
            "text/plain": [
              "<IPython.core.display.Javascript object>"
            ]
          },
          "metadata": {
            "tags": []
          }
        },
        {
          "output_type": "display_data",
          "data": {
            "application/javascript": [
              "window[\"84d57f90-ad64-11eb-b305-0242ac1c0002\"] = document.querySelector(\"#errorlog\");\n",
              "//# sourceURL=js_a0c2c6ad90"
            ],
            "text/plain": [
              "<IPython.core.display.Javascript object>"
            ]
          },
          "metadata": {
            "tags": []
          }
        },
        {
          "output_type": "display_data",
          "data": {
            "application/javascript": [
              "window[\"84d64c04-ad64-11eb-b305-0242ac1c0002\"] = google.colab.output.setActiveOutputArea(window[\"84d57f90-ad64-11eb-b305-0242ac1c0002\"]);\n",
              "//# sourceURL=js_e15d062898"
            ],
            "text/plain": [
              "<IPython.core.display.Javascript object>"
            ]
          },
          "metadata": {
            "tags": []
          }
        },
        {
          "output_type": "display_data",
          "data": {
            "application/vnd.google.colaboratory.intrinsic+json": {
              "type": "string"
            },
            "text/plain": [
              "'--boxes array populated--'"
            ]
          },
          "metadata": {
            "tags": []
          }
        },
        {
          "output_type": "display_data",
          "data": {
            "application/javascript": [
              "window[\"84d74cc6-ad64-11eb-b305-0242ac1c0002\"] = google.colab.output.setActiveOutputArea(window[\"84d4e404-ad64-11eb-b305-0242ac1c0002\"]);\n",
              "//# sourceURL=js_d47d0e3002"
            ],
            "text/plain": [
              "<IPython.core.display.Javascript object>"
            ]
          },
          "metadata": {
            "tags": []
          }
        }
      ]
    },
    {
      "cell_type": "code",
      "metadata": {
        "id": "bUonqQRPr8tW"
      },
      "source": [
        "data={}\n",
        "data['bounding box']=[]\n",
        "data['bounding box'].append(gt_boxes)"
      ],
      "execution_count": 21,
      "outputs": []
    },
    {
      "cell_type": "code",
      "metadata": {
        "id": "oEglx5uwtkUk"
      },
      "source": [
        "with open('STARE_Bbos.txt', 'w') as f:\n",
        "    json.dump(dumped, f)"
      ],
      "execution_count": 22,
      "outputs": []
    },
    {
      "cell_type": "code",
      "metadata": {
        "id": "XEszhH33to3M"
      },
      "source": [
        ""
      ],
      "execution_count": null,
      "outputs": []
    }
  ]
}